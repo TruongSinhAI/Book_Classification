{
 "cells": [
  {
   "cell_type": "code",
   "execution_count": 1,
   "metadata": {},
   "outputs": [],
   "source": [
    "import numpy as np\n",
    "from selenium import webdriver\n",
    "from time import sleep\n",
    "import random\n",
    "from selenium.common.exceptions import NoSuchElementException, ElementNotInteractableException\n",
    "from selenium.webdriver.common.by import By\n",
    "import pandas as pd\n"
   ]
  },
  {
   "cell_type": "code",
   "execution_count": 3,
   "metadata": {},
   "outputs": [
    {
     "name": "stderr",
     "output_type": "stream",
     "text": [
      "C:\\Users\\admin\\AppData\\Local\\Temp\\ipykernel_23264\\530843676.py:1: DeprecationWarning: executable_path has been deprecated, please pass in a Service object\n",
      "  driver = webdriver.Chrome('chromedriver.exe')\n"
     ]
    }
   ],
   "source": [
    "driver = webdriver.Chrome('chromedriver.exe')"
   ]
  },
  {
   "cell_type": "code",
   "execution_count": 4,
   "metadata": {},
   "outputs": [],
   "source": [
    "title =[]\n",
    "links = []\n",
    "#Split page into 4 interval 1-49; 50-69; 70-99;100-140\n",
    "for page in range(1,141):\n",
    "    driver.get(url=f'https://khosachonline.com/sach-ebook?page={page}')\n",
    "    # sleep(1)\n",
    "\n",
    "    #get Title and link to book\n",
    "    elems = driver.find_elements(By.CSS_SELECTOR, '.entry-title [href]')\n",
    "    title += [elem.text for elem in elems]\n",
    "    links += [elem.get_attribute('href') for elem in elems]"
   ]
  },
  {
   "cell_type": "code",
   "execution_count": 5,
   "metadata": {},
   "outputs": [],
   "source": [
    "#Convert Title and links to dataFrame\n",
    "df = pd.DataFrame(list(zip(title, links)), columns=['Title', 'Link'])"
   ]
  },
  {
   "cell_type": "code",
   "execution_count": 6,
   "metadata": {},
   "outputs": [],
   "source": [
    "#Method for getting info of books\n",
    "def get_info(link):\n",
    "    driver.get(url = link)\n",
    "    sleep(0.5)\n",
    "    genre = author = context = ''\n",
    "    #Get genre and author\n",
    "    elems = driver.find_elements(By.CSS_SELECTOR, '.iconlist [href]')\n",
    "    elems = [elem.text for elem in elems]\n",
    "    genre = elems[0]\n",
    "    author = elems[-1]\n",
    "    \n",
    "    #Get mieu ta\n",
    "    elems = driver.find_element(By.CSS_SELECTOR, '.tab-container')\n",
    "    context = elems.text\n",
    "    return genre, author, context"
   ]
  },
  {
   "cell_type": "code",
   "execution_count": 7,
   "metadata": {},
   "outputs": [],
   "source": [
    "# df['Genre'], df['Author'], df['Context'] = df['Link'].apply(get_info)\n",
    "new_cols = ['Genre', 'Author', 'Description']\n",
    "df[new_cols] = df['Link'].apply(get_info).apply(pd.Series).rename(columns={0: 'Genre', 1: 'Author', 2: 'Description'})"
   ]
  },
  {
   "cell_type": "code",
   "execution_count": 15,
   "metadata": {},
   "outputs": [],
   "source": [
    "#Export to file (4 files)\n",
    "df.to_csv('data_page_100_to_140.csv')"
   ]
  }
 ],
 "metadata": {
  "kernelspec": {
   "display_name": "Python 3",
   "language": "python",
   "name": "python3"
  },
  "language_info": {
   "codemirror_mode": {
    "name": "ipython",
    "version": 3
   },
   "file_extension": ".py",
   "mimetype": "text/x-python",
   "name": "python",
   "nbconvert_exporter": "python",
   "pygments_lexer": "ipython3",
   "version": "3.9.2"
  },
  "orig_nbformat": 4
 },
 "nbformat": 4,
 "nbformat_minor": 2
}
