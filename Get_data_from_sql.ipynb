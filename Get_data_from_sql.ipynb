{
 "cells": [
  {
   "cell_type": "code",
   "execution_count": 16,
   "metadata": {},
   "outputs": [],
   "source": [
    "import pyodbc\n",
    "import pandas as pd\n",
    "\n",
    "# Kết nối đến cơ sở dữ liệu SQL Server\n",
    "conn = pyodbc.connect(\n",
    "    'DRIVER={ODBC Driver 18 for SQL Server};'\n",
    "    'SERVER=LAPTOP-9HPU6J99;'\n",
    "    'DATABASE=BOOK_RECOMMENDATION;'\n",
    "    'UID=admin;'\n",
    "    'PWD=123;'\n",
    "    # 'TrustServerCertificate=No;'\n",
    "    'TrustServerCertificate=Yes'\n",
    ")\n",
    "\n",
    "# Tạo một cursor để thực thi các truy vấn SQL\n",
    "cursor = conn.cursor()\n",
    "\n",
    "# Thực thi truy vấn SELECT để lấy dữ liệu từ bảng books\n",
    "select_query = '''\n",
    "    SELECT title, link, genre, author, description\n",
    "    FROM books\n",
    "'''\n",
    "cursor.execute(select_query)\n",
    "\n",
    "# Lấy tất cả các dòng dữ liệu từ kết quả truy vấn\n",
    "rows = cursor.fetchall()\n",
    "\n",
    "rows = [list(row) for row in rows]\n",
    "df = pd.DataFrame(rows2, columns=['Title', 'Link', 'Genre', 'Author', 'Description'])\n",
    "\n",
    "# Đóng cursor và kết nối\n",
    "cursor.close()\n",
    "conn.close()"
   ]
  },
  {
   "cell_type": "code",
   "execution_count": 26,
   "metadata": {},
   "outputs": [],
   "source": [
    "df.to_csv(\"data.csv\")"
   ]
  }
 ],
 "metadata": {
  "kernelspec": {
   "display_name": "Python 3",
   "language": "python",
   "name": "python3"
  },
  "language_info": {
   "codemirror_mode": {
    "name": "ipython",
    "version": 3
   },
   "file_extension": ".py",
   "mimetype": "text/x-python",
   "name": "python",
   "nbconvert_exporter": "python",
   "pygments_lexer": "ipython3",
   "version": "3.9.2"
  },
  "orig_nbformat": 4
 },
 "nbformat": 4,
 "nbformat_minor": 2
}
